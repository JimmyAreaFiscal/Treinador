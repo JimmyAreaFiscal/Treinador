{
 "cells": [
  {
   "cell_type": "code",
   "execution_count": 1,
   "metadata": {},
   "outputs": [
    {
     "name": "stderr",
     "output_type": "stream",
     "text": [
      "/home/jimmy.gomes/Documents/Projetos/Vida Pessoal/Treinador/src/modules/utils/prompts.py:29: SyntaxWarning: invalid escape sequence '\\%'\n",
      "  TEST_PROMPT_TEMPLATE = \"\"\"\n"
     ]
    }
   ],
   "source": [
    "from modules.utils.schemas import AgentState, AthleteConditions, TrainingParams, PhysicalTest\n",
    "from modules.utils.prompts import TEST_PROMPT_TEMPLATE\n"
   ]
  },
  {
   "cell_type": "code",
   "execution_count": 2,
   "metadata": {},
   "outputs": [
    {
     "data": {
      "text/plain": [
       "{'main_sport': FieldInfo(annotation=str, required=True),\n",
       " 'training_modalities': FieldInfo(annotation=List[Literal['corrida', 'ciclismo', 'musculação', 'alongamento']], required=True),\n",
       " 'objective': FieldInfo(annotation=str, required=True),\n",
       " 'constraints': FieldInfo(annotation=List[str], required=True),\n",
       " 'athlete_availability': FieldInfo(annotation=str, required=True),\n",
       " 'suplement_already_taken': FieldInfo(annotation=List[str], required=True)}"
      ]
     },
     "execution_count": 2,
     "metadata": {},
     "output_type": "execute_result"
    }
   ],
   "source": [
    "TrainingParams.model_fields"
   ]
  },
  {
   "cell_type": "code",
   "execution_count": 3,
   "metadata": {},
   "outputs": [
    {
     "name": "stdout",
     "output_type": "stream",
     "text": [
      " \n",
      "Você é um especialista em treinamento e fisiologia, focado no esporte motovelocidade.\n",
      "\n",
      "Sua tarefa é fornecer um teste físico padronizado **com PELO MENOS 8 a 15 exercícios** para o macrociclo de treino, a fim de mensurar o avanço do atleta frente ao objetivo do treinamento, considerando o objetivo fornecido e as características do esporte.\n",
      "\n",
      "Seu objetivo é permitir que o atleta seja capaz de avaliar seu progresso e ajustar seu treino conforme necessário.\n",
      "\n",
      "Restrições:\n",
      "\n",
      "1. Deve haver pelo menos 1 teste físico para cada grupamento muscular, conforme o objetivo do treinamento.\n",
      "2. Deve haver entre 8 a 15 testes físicos no total\n",
      "3. Somente pode have teste físico para as modalidades de treino aceitas.\n",
      "4. Justifique a escolha o exercício como teste físico, e como o exercício poderá mensurar a evolução do atleta frente ao objetivo do macrociclo de treino.\n",
      "\n",
      "O formato da resposta deve ser o seguinte:\n",
      "\n",
      "{\n",
      "    \"test_name\": \"nome do teste físico\",\n",
      "    \"test_exercises\": \"lista de exercícios do teste físico a serem realizados. Usar o padrão de exercícios passado abaixo\"\n",
      "    \"interval_between_tests\": \"intervalo entre os testes físicos\"\n",
      "    \"justification\": \"justificativas para o teste físico, explicando como a escolha do intervalo de tempo entre os testes foi feita.\"\n",
      "}\n",
      "\n",
      "\n",
      "Para cada uma das seguintes modalidades de exercícios, seguir o formato para \"test_exercises\":\n",
      "\n",
      "## Aeróbico:\n",
      "{\n",
      "    \"type\": \"aerobic\",\n",
      "    \"modality\": \"nome da modalidade do exercício aeróbico (corrida longa, ciclismo longo, tiros de corrida, ciclismo em elevação,etc)\",\n",
      "    \"duration\": \"duração do exercício. Caso seja um teste para avaliar o tempo a completar uma distância, indicar com 'distância' + 'unidade de medida' (ex: 10km, 20km, etc). Do contrário, indicar a duração em minutos\",\n",
      "    \"description\": \"descrição do exercício\",\n",
      "    \"justification\": \"justificativa para a escolha do exercício, explicando o porquê desse exercício mensurar o avanço do atleta frente ao objetivo do macrociclo de treino\"\n",
      "}\n",
      "\n",
      "## Força e resistência:\n",
      "{\n",
      "    \"type\": \"weighed\",\n",
      "    \"exercise\": \"nome do exercício\",\n",
      "    \"series\": \"quantidade de séries, deve ser igual a 1\",\n",
      "    \"repetitions\": \"quantidade de repetições a ser realizadas. Caso seja máximo de repetições com determinada carga, indicar com 'max'. Do contrário, indicar a quantidade de repetições\",\n",
      "    \"load\": \"carga do exercício esperada para o atleta. Caso seja \\% do RM, indicar com %. Do contrário, indicar a carga em kg\",\n",
      "    \"rest\": \"tempo de descanso entre os exercícios antes de realizar próximo exercício do teste\",\n",
      "    \"justification\": \"justificativa para a escolha do exercício e repetições, explicando o porquê desse exercício mensurar o avanço do atleta frente ao objetivo do macrociclo de treino\"\n",
      "}\n",
      "\n",
      "## Alongamento:\n",
      "{\n",
      "    \"type\": \"stretching\",\n",
      "    \"exercise\": \"nome do exercício\",\n",
      "    \"duration\": \"duração do exercício. Caso seja um teste para avaliar o alcance de um determinado objetivo, indicar com 'objetivo' + 'unidade de medida' (ex: 10cm, 20cm, etc). Do contrário, indicar a duração em segundos\",\n",
      "    \"description\": \"descrição etalhada de como executar do exercício\",\n",
      "    \"justification\": \"justificativa para a escolha do exercício, explicando o porquê desse exercício mensurar o avanço do atleta frente ao objetivo do macrociclo de treino\"\n",
      "}\n",
      "\n",
      "\n",
      "##################\n",
      "\n",
      "Objetivo do treinamento: Aumentar a resistência para aguentar mais voltas na pista\n",
      "Modalidades de treino aceitas: ['corrida', 'ciclismo', 'musculação']\n",
      "Detalhes do esporte: []\n",
      "\n",
      "\n"
     ]
    }
   ],
   "source": [
    "athlete_conditions = AthleteConditions(\n",
    "    height=180,\n",
    "    weight=70,\n",
    "    age=25,\n",
    "    gender=\"masculino\",\n",
    "    body_type='ectomorfo',\n",
    "    body_fat=.15)\n",
    "\n",
    "training_params = TrainingParams(\n",
    "    main_sport=\"motovelocidade\",\n",
    "    training_modalities = ['corrida', 'ciclismo', 'musculação'],\n",
    "    objective = 'Aumentar a resistência para aguentar mais voltas na pista',\n",
    "    constraints = ['Academia com pesos normais, sem equipamentos especiais', 'Possuo pouco alongamento'],\n",
    "    athlete_availability = 'Segunda a Sexta, manhã e noite. Sábado apenas de manhã',\n",
    "    suplement_already_taken = ['Creatina', 'Whey Protein', 'Multivitamínico', 'Termogênico']\n",
    ")\n",
    "\n",
    "prompt = TEST_PROMPT_TEMPLATE.format(main_sport=training_params.main_sport, objective=training_params.objective, main_sport_details=[], accepted_training_modalities=training_params.training_modalities)\n",
    "print(prompt)"
   ]
  },
  {
   "cell_type": "code",
   "execution_count": 4,
   "metadata": {},
   "outputs": [
    {
     "data": {
      "text/plain": [
       "TrainingParams(main_sport='motovelocidade', training_modalities=['corrida', 'ciclismo', 'musculação'], objective='Aumentar a resistência para aguentar mais voltas na pista', constraints=['Academia com pesos normais, sem equipamentos especiais', 'Possuo pouco alongamento'], athlete_availability='Segunda a Sexta, manhã e noite. Sábado apenas de manhã', suplement_already_taken=['Creatina', 'Whey Protein', 'Multivitamínico', 'Termogênico'])"
      ]
     },
     "execution_count": 4,
     "metadata": {},
     "output_type": "execute_result"
    }
   ],
   "source": [
    "training_params"
   ]
  },
  {
   "cell_type": "code",
   "execution_count": 5,
   "metadata": {},
   "outputs": [],
   "source": [
    "from dotenv import load_dotenv\n",
    "from modules.utils.llm import ChatLLM\n",
    "load_dotenv()\n",
    "\n",
    "structured_llm = ChatLLM.with_structured_output(PhysicalTest)"
   ]
  },
  {
   "cell_type": "code",
   "execution_count": 6,
   "metadata": {},
   "outputs": [
    {
     "name": "stdout",
     "output_type": "stream",
     "text": [
      "test_name='Teste de Resistência e Força para Motovelocidade' test_exercises=[AerobicExercice(type='aerobic', modality='corrida longa', duration='30 minutos', description='Corrida contínua em ritmo moderado, visando manter a frequência cardíaca entre 70-80% da frequência máxima.', justification='A corrida longa é fundamental para aumentar a resistência aeróbica do atleta, permitindo que ele suporte mais tempo em alta intensidade durante as voltas na pista.'), AerobicExercice(type='aerobic', modality='ciclismo', duration='40 minutos', description='Ciclismo em terreno plano, mantendo uma cadência constante e moderada.', justification='O ciclismo é uma excelente forma de desenvolver resistência muscular e cardiovascular, essencial para a motovelocidade, onde a resistência é crucial para manter a performance ao longo da corrida.'), WeighedExercice(type='weighed', exercise='agachamento', series=1, repetitions='max', load='70% do RM', rest=60, justification='O agachamento é um exercício fundamental para fortalecer os músculos das pernas, que são essenciais para a estabilidade e controle da moto. O teste de máximo de repetições com carga permite avaliar a força e resistência muscular do atleta.'), WeighedExercice(type='weighed', exercise='supino reto', series=1, repetitions='max', load='70% do RM', rest=60, justification='O supino reto fortalece a musculatura do peitoral, ombros e tríceps, que são importantes para o controle da moto. O teste de máximo de repetições com carga ajuda a mensurar a força e resistência do atleta.'), WeighedExercice(type='weighed', exercise='remada curvada', series=1, repetitions='max', load='70% do RM', rest=60, justification='A remada curvada é essencial para fortalecer a musculatura das costas, que ajuda na postura e controle da moto. O teste de máximo de repetições com carga permite avaliar a força e resistência muscular do atleta.'), WeighedExercice(type='weighed', exercise='leg press', series=1, repetitions='max', load='70% do RM', rest=60, justification='O leg press foca no fortalecimento dos músculos das pernas, que são cruciais para a aceleração e frenagem na motovelocidade. O teste de máximo de repetições com carga mensura a força e resistência do atleta.'), WeighedExercice(type='weighed', exercise='elevação de panturrilha', series=1, repetitions='max', load='70% do RM', rest=60, justification='A elevação de panturrilha é importante para fortalecer a musculatura da panturrilha, que ajuda na estabilidade e controle da moto. O teste de máximo de repetições com carga permite avaliar a força e resistência muscular do atleta.'), WeighedExercice(type='weighed', exercise='prancha', series=1, repetitions='60 segundos', load='0kg', rest=60, justification='A prancha é um exercício isométrico que fortalece o core, essencial para a estabilidade e controle na pilotagem. O tempo de execução mensura a resistência do core do atleta.'), AerobicExercice(type='aerobic', modality='tiros de corrida', duration='5 tiros de 200 metros', description='Corrida em alta intensidade por 200 metros, com descanso de 2 minutos entre os tiros.', justification='Os tiros de corrida ajudam a desenvolver a capacidade anaeróbica e a resistência em alta intensidade, que são cruciais para a performance em voltas rápidas na pista.'), AerobicExercice(type='aerobic', modality='ciclismo em elevação', duration='20 minutos', description='Ciclismo em subida, mantendo uma cadência moderada.', justification='O ciclismo em elevação aumenta a força muscular e a resistência, preparando o atleta para as variações de terreno que podem ocorrer durante as corridas.')] interval_between_tests=4 justification='O intervalo de 4 semanas entre os testes físicos permite que o atleta tenha tempo suficiente para se recuperar e adaptar aos treinos, além de possibilitar a avaliação do progresso em força e resistência, fundamentais para a motovelocidade.'\n"
     ]
    }
   ],
   "source": [
    "x = structured_llm.invoke(prompt)\n",
    "print(x)"
   ]
  },
  {
   "cell_type": "code",
   "execution_count": 7,
   "metadata": {},
   "outputs": [
    {
     "name": "stdout",
     "output_type": "stream",
     "text": [
      "Teste de Resistência e Força para Motovelocidade\n"
     ]
    }
   ],
   "source": [
    "print(x.test_name)"
   ]
  },
  {
   "cell_type": "code",
   "execution_count": 8,
   "metadata": {},
   "outputs": [
    {
     "name": "stdout",
     "output_type": "stream",
     "text": [
      "\n",
      "############### Exercício 1: ######### \n",
      "\n",
      "\n",
      "Modalidade:  corrida longa\n",
      "Duração:  30 minutos\n",
      "Descrição:  Corrida contínua em ritmo moderado, visando manter a frequência cardíaca entre 70-80% da frequência máxima.\n",
      "Justificativa:  A corrida longa é fundamental para aumentar a resistência aeróbica do atleta, permitindo que ele suporte mais tempo em alta intensidade durante as voltas na pista.\n",
      "\n",
      "############### Exercício 2: ######### \n",
      "\n",
      "\n",
      "Modalidade:  ciclismo\n",
      "Duração:  40 minutos\n",
      "Descrição:  Ciclismo em terreno plano, mantendo uma cadência constante e moderada.\n",
      "Justificativa:  O ciclismo é uma excelente forma de desenvolver resistência muscular e cardiovascular, essencial para a motovelocidade, onde a resistência é crucial para manter a performance ao longo da corrida.\n",
      "\n",
      "############### Exercício 3: ######### \n",
      "\n",
      "\n",
      "Exercício:  agachamento\n",
      "Séries:  1\n",
      "Repetições:  max\n",
      "Carga:  70% do RM\n",
      "Descanso:  60\n",
      "Justificativa:  O agachamento é um exercício fundamental para fortalecer os músculos das pernas, que são essenciais para a estabilidade e controle da moto. O teste de máximo de repetições com carga permite avaliar a força e resistência muscular do atleta.\n",
      "\n",
      "############### Exercício 4: ######### \n",
      "\n",
      "\n",
      "Exercício:  supino reto\n",
      "Séries:  1\n",
      "Repetições:  max\n",
      "Carga:  70% do RM\n",
      "Descanso:  60\n",
      "Justificativa:  O supino reto fortalece a musculatura do peitoral, ombros e tríceps, que são importantes para o controle da moto. O teste de máximo de repetições com carga ajuda a mensurar a força e resistência do atleta.\n",
      "\n",
      "############### Exercício 5: ######### \n",
      "\n",
      "\n",
      "Exercício:  remada curvada\n",
      "Séries:  1\n",
      "Repetições:  max\n",
      "Carga:  70% do RM\n",
      "Descanso:  60\n",
      "Justificativa:  A remada curvada é essencial para fortalecer a musculatura das costas, que ajuda na postura e controle da moto. O teste de máximo de repetições com carga permite avaliar a força e resistência muscular do atleta.\n",
      "\n",
      "############### Exercício 6: ######### \n",
      "\n",
      "\n",
      "Exercício:  leg press\n",
      "Séries:  1\n",
      "Repetições:  max\n",
      "Carga:  70% do RM\n",
      "Descanso:  60\n",
      "Justificativa:  O leg press foca no fortalecimento dos músculos das pernas, que são cruciais para a aceleração e frenagem na motovelocidade. O teste de máximo de repetições com carga mensura a força e resistência do atleta.\n",
      "\n",
      "############### Exercício 7: ######### \n",
      "\n",
      "\n",
      "Exercício:  elevação de panturrilha\n",
      "Séries:  1\n",
      "Repetições:  max\n",
      "Carga:  70% do RM\n",
      "Descanso:  60\n",
      "Justificativa:  A elevação de panturrilha é importante para fortalecer a musculatura da panturrilha, que ajuda na estabilidade e controle da moto. O teste de máximo de repetições com carga permite avaliar a força e resistência muscular do atleta.\n",
      "\n",
      "############### Exercício 8: ######### \n",
      "\n",
      "\n",
      "Exercício:  prancha\n",
      "Séries:  1\n",
      "Repetições:  60 segundos\n",
      "Carga:  0kg\n",
      "Descanso:  60\n",
      "Justificativa:  A prancha é um exercício isométrico que fortalece o core, essencial para a estabilidade e controle na pilotagem. O tempo de execução mensura a resistência do core do atleta.\n",
      "\n",
      "############### Exercício 9: ######### \n",
      "\n",
      "\n",
      "Modalidade:  tiros de corrida\n",
      "Duração:  5 tiros de 200 metros\n",
      "Descrição:  Corrida em alta intensidade por 200 metros, com descanso de 2 minutos entre os tiros.\n",
      "Justificativa:  Os tiros de corrida ajudam a desenvolver a capacidade anaeróbica e a resistência em alta intensidade, que são cruciais para a performance em voltas rápidas na pista.\n",
      "\n",
      "############### Exercício 10: ######### \n",
      "\n",
      "\n",
      "Modalidade:  ciclismo em elevação\n",
      "Duração:  20 minutos\n",
      "Descrição:  Ciclismo em subida, mantendo uma cadência moderada.\n",
      "Justificativa:  O ciclismo em elevação aumenta a força muscular e a resistência, preparando o atleta para as variações de terreno que podem ocorrer durante as corridas.\n"
     ]
    }
   ],
   "source": [
    "for i, exercise in enumerate(x.test_exercises):\n",
    "    print(f\"\\n############### Exercício {i+1}: ######### \")\n",
    "    print('\\n')\n",
    "    if exercise.type == \"aerobic\":\n",
    "        print('Modalidade: ', exercise.modality)\n",
    "        print('Duração: ', exercise.duration)\n",
    "        print('Descrição: ', exercise.description)\n",
    "        print('Justificativa: ', exercise.justification)\n",
    "    elif exercise.type == \"weighed\":\n",
    "        print('Exercício: ', exercise.exercise)\n",
    "        print('Séries: ', exercise.series)\n",
    "        print('Repetições: ', exercise.repetitions)\n",
    "        print('Carga: ', exercise.load)\n",
    "        print('Descanso: ', exercise.rest)\n",
    "        print('Justificativa: ', exercise.justification)\n",
    "    elif exercise.type == \"stretching\":\n",
    "        print('Exercício: ', exercise.exercise)\n",
    "        print('Duração: ', exercise.duration)\n",
    "        print('Descrição: ', exercise.description)\n",
    "        print('Justificativa: ', exercise.justification)"
   ]
  },
  {
   "cell_type": "code",
   "execution_count": null,
   "metadata": {},
   "outputs": [],
   "source": []
  }
 ],
 "metadata": {
  "kernelspec": {
   "display_name": "myvenv",
   "language": "python",
   "name": "python3"
  },
  "language_info": {
   "codemirror_mode": {
    "name": "ipython",
    "version": 3
   },
   "file_extension": ".py",
   "mimetype": "text/x-python",
   "name": "python",
   "nbconvert_exporter": "python",
   "pygments_lexer": "ipython3",
   "version": "3.12.3"
  }
 },
 "nbformat": 4,
 "nbformat_minor": 2
}
